{
  "nbformat": 4,
  "nbformat_minor": 0,
  "metadata": {
    "colab": {
      "provenance": [],
      "gpuType": "T4"
    },
    "kernelspec": {
      "name": "python3",
      "display_name": "Python 3"
    },
    "language_info": {
      "name": "python"
    },
    "accelerator": "GPU"
  },
  "cells": [
    {
      "cell_type": "code",
      "execution_count": null,
      "metadata": {
        "id": "QSGqCJvUazFE"
      },
      "outputs": [],
      "source": [
        "import os\n",
        "os.chdir('/content')"
      ]
    },
    {
      "cell_type": "code",
      "source": [
        "!rm -rf content_anal"
      ],
      "metadata": {
        "id": "NLMvrrgga6K0"
      },
      "execution_count": null,
      "outputs": []
    },
    {
      "cell_type": "code",
      "source": [
        "!git clone https://github.com/thu-felix/content_anal.git"
      ],
      "metadata": {
        "colab": {
          "base_uri": "https://localhost:8080/"
        },
        "id": "wbrbMKNGa7BW",
        "outputId": "59bc3f98-aaea-4e47-d11b-8ce043f35b64"
      },
      "execution_count": null,
      "outputs": [
        {
          "output_type": "stream",
          "name": "stdout",
          "text": [
            "Cloning into 'content_anal'...\n",
            "remote: Enumerating objects: 161, done.\u001b[K\n",
            "remote: Counting objects: 100% (161/161), done.\u001b[K\n",
            "remote: Compressing objects: 100% (113/113), done.\u001b[K\n",
            "remote: Total 161 (delta 76), reused 118 (delta 35), pack-reused 0 (from 0)\u001b[K\n",
            "Receiving objects: 100% (161/161), 40.47 MiB | 7.82 MiB/s, done.\n",
            "Resolving deltas: 100% (76/76), done.\n"
          ]
        }
      ]
    },
    {
      "cell_type": "code",
      "source": [
        "os.chdir('/content/content_anal')"
      ],
      "metadata": {
        "id": "OYHvVWM8a_pO"
      },
      "execution_count": null,
      "outputs": []
    },
    {
      "cell_type": "code",
      "source": [
        "!git pull"
      ],
      "metadata": {
        "colab": {
          "base_uri": "https://localhost:8080/"
        },
        "id": "YMO3hQbIbCTs",
        "outputId": "b0a9bb0e-ed90-4199-de32-e5ad8923bd26"
      },
      "execution_count": null,
      "outputs": [
        {
          "output_type": "stream",
          "name": "stdout",
          "text": [
            "Already up to date.\n"
          ]
        }
      ]
    },
    {
      "cell_type": "code",
      "source": [
        "!git checkout sentim_dev"
      ],
      "metadata": {
        "colab": {
          "base_uri": "https://localhost:8080/"
        },
        "id": "7R_ndHq0bC-b",
        "outputId": "ed142f92-9dd8-4067-acb1-fe6c09d5dfaf"
      },
      "execution_count": null,
      "outputs": [
        {
          "output_type": "stream",
          "name": "stdout",
          "text": [
            "Branch 'sentim_dev' set up to track remote branch 'sentim_dev' from 'origin'.\n",
            "Switched to a new branch 'sentim_dev'\n"
          ]
        }
      ]
    },
    {
      "cell_type": "code",
      "source": [
        "!pip install -r requirements.txt"
      ],
      "metadata": {
        "colab": {
          "base_uri": "https://localhost:8080/"
        },
        "id": "hShG3M3FbFwV",
        "outputId": "866c94c4-0121-4c3e-e5d6-f58e3c920f37"
      },
      "execution_count": null,
      "outputs": [
        {
          "output_type": "stream",
          "name": "stdout",
          "text": [
            "Collecting datasets (from -r requirements.txt (line 1))\n",
            "  Downloading datasets-3.2.0-py3-none-any.whl.metadata (20 kB)\n",
            "Requirement already satisfied: nltk in /usr/local/lib/python3.10/dist-packages (from -r requirements.txt (line 2)) (3.9.1)\n",
            "Collecting openprompt (from -r requirements.txt (line 3))\n",
            "  Downloading openprompt-1.0.1-py3-none-any.whl.metadata (10 kB)\n",
            "Requirement already satisfied: torch in /usr/local/lib/python3.10/dist-packages (from -r requirements.txt (line 4)) (2.5.1+cu121)\n",
            "Collecting transformers==4.19.0 (from -r requirements.txt (line 5))\n",
            "  Downloading transformers-4.19.0-py3-none-any.whl.metadata (73 kB)\n",
            "\u001b[2K     \u001b[90m━━━━━━━━━━━━━━━━━━━━━━━━━━━━━━━━━━━━━━━━\u001b[0m \u001b[32m73.2/73.2 kB\u001b[0m \u001b[31m5.5 MB/s\u001b[0m eta \u001b[36m0:00:00\u001b[0m\n",
            "\u001b[?25hRequirement already satisfied: sentence-transformers in /usr/local/lib/python3.10/dist-packages (from -r requirements.txt (line 6)) (3.2.1)\n",
            "Requirement already satisfied: filelock in /usr/local/lib/python3.10/dist-packages (from transformers==4.19.0->-r requirements.txt (line 5)) (3.16.1)\n",
            "Requirement already satisfied: huggingface-hub<1.0,>=0.1.0 in /usr/local/lib/python3.10/dist-packages (from transformers==4.19.0->-r requirements.txt (line 5)) (0.26.5)\n",
            "Requirement already satisfied: numpy>=1.17 in /usr/local/lib/python3.10/dist-packages (from transformers==4.19.0->-r requirements.txt (line 5)) (1.26.4)\n",
            "Requirement already satisfied: packaging>=20.0 in /usr/local/lib/python3.10/dist-packages (from transformers==4.19.0->-r requirements.txt (line 5)) (24.2)\n",
            "Requirement already satisfied: pyyaml>=5.1 in /usr/local/lib/python3.10/dist-packages (from transformers==4.19.0->-r requirements.txt (line 5)) (6.0.2)\n",
            "Requirement already satisfied: regex!=2019.12.17 in /usr/local/lib/python3.10/dist-packages (from transformers==4.19.0->-r requirements.txt (line 5)) (2024.9.11)\n",
            "Requirement already satisfied: requests in /usr/local/lib/python3.10/dist-packages (from transformers==4.19.0->-r requirements.txt (line 5)) (2.32.3)\n",
            "Collecting tokenizers!=0.11.3,<0.13,>=0.11.1 (from transformers==4.19.0->-r requirements.txt (line 5))\n",
            "  Downloading tokenizers-0.12.1-cp310-cp310-manylinux_2_12_x86_64.manylinux2010_x86_64.whl.metadata (6.5 kB)\n",
            "Requirement already satisfied: tqdm>=4.27 in /usr/local/lib/python3.10/dist-packages (from transformers==4.19.0->-r requirements.txt (line 5)) (4.66.6)\n",
            "Requirement already satisfied: pyarrow>=15.0.0 in /usr/local/lib/python3.10/dist-packages (from datasets->-r requirements.txt (line 1)) (17.0.0)\n",
            "Collecting dill<0.3.9,>=0.3.0 (from datasets->-r requirements.txt (line 1))\n",
            "  Downloading dill-0.3.8-py3-none-any.whl.metadata (10 kB)\n",
            "Requirement already satisfied: pandas in /usr/local/lib/python3.10/dist-packages (from datasets->-r requirements.txt (line 1)) (2.2.2)\n",
            "Collecting xxhash (from datasets->-r requirements.txt (line 1))\n",
            "  Downloading xxhash-3.5.0-cp310-cp310-manylinux_2_17_x86_64.manylinux2014_x86_64.whl.metadata (12 kB)\n",
            "Collecting multiprocess<0.70.17 (from datasets->-r requirements.txt (line 1))\n",
            "  Downloading multiprocess-0.70.16-py310-none-any.whl.metadata (7.2 kB)\n",
            "Collecting fsspec<=2024.9.0,>=2023.1.0 (from fsspec[http]<=2024.9.0,>=2023.1.0->datasets->-r requirements.txt (line 1))\n",
            "  Downloading fsspec-2024.9.0-py3-none-any.whl.metadata (11 kB)\n",
            "Requirement already satisfied: aiohttp in /usr/local/lib/python3.10/dist-packages (from datasets->-r requirements.txt (line 1)) (3.11.10)\n",
            "Requirement already satisfied: click in /usr/local/lib/python3.10/dist-packages (from nltk->-r requirements.txt (line 2)) (8.1.7)\n",
            "Requirement already satisfied: joblib in /usr/local/lib/python3.10/dist-packages (from nltk->-r requirements.txt (line 2)) (1.4.2)\n",
            "Collecting sentencepiece==0.1.96 (from openprompt->-r requirements.txt (line 3))\n",
            "  Downloading sentencepiece-0.1.96-cp310-cp310-manylinux_2_17_x86_64.manylinux2014_x86_64.whl.metadata (10 kB)\n",
            "Collecting tensorboardX (from openprompt->-r requirements.txt (line 3))\n",
            "  Downloading tensorboardX-2.6.2.2-py2.py3-none-any.whl.metadata (5.8 kB)\n",
            "Collecting yacs (from openprompt->-r requirements.txt (line 3))\n",
            "  Downloading yacs-0.1.8-py3-none-any.whl.metadata (639 bytes)\n",
            "Collecting rouge==1.0.0 (from openprompt->-r requirements.txt (line 3))\n",
            "  Downloading rouge-1.0.0-py3-none-any.whl.metadata (4.0 kB)\n",
            "Requirement already satisfied: scipy in /usr/local/lib/python3.10/dist-packages (from openprompt->-r requirements.txt (line 3)) (1.13.1)\n",
            "Requirement already satisfied: six in /usr/local/lib/python3.10/dist-packages (from rouge==1.0.0->openprompt->-r requirements.txt (line 3)) (1.17.0)\n",
            "Requirement already satisfied: typing-extensions>=4.8.0 in /usr/local/lib/python3.10/dist-packages (from torch->-r requirements.txt (line 4)) (4.12.2)\n",
            "Requirement already satisfied: networkx in /usr/local/lib/python3.10/dist-packages (from torch->-r requirements.txt (line 4)) (3.4.2)\n",
            "Requirement already satisfied: jinja2 in /usr/local/lib/python3.10/dist-packages (from torch->-r requirements.txt (line 4)) (3.1.4)\n",
            "Requirement already satisfied: sympy==1.13.1 in /usr/local/lib/python3.10/dist-packages (from torch->-r requirements.txt (line 4)) (1.13.1)\n",
            "Requirement already satisfied: mpmath<1.4,>=1.1.0 in /usr/local/lib/python3.10/dist-packages (from sympy==1.13.1->torch->-r requirements.txt (line 4)) (1.3.0)\n",
            "INFO: pip is looking at multiple versions of sentence-transformers to determine which version is compatible with other requirements. This could take a while.\n",
            "Collecting sentence-transformers (from -r requirements.txt (line 6))\n",
            "  Downloading sentence_transformers-3.3.1-py3-none-any.whl.metadata (10 kB)\n",
            "  Downloading sentence_transformers-3.3.0-py3-none-any.whl.metadata (10 kB)\n",
            "  Downloading sentence_transformers-3.2.0-py3-none-any.whl.metadata (10 kB)\n",
            "  Downloading sentence_transformers-3.1.1-py3-none-any.whl.metadata (10 kB)\n",
            "  Downloading sentence_transformers-3.1.0-py3-none-any.whl.metadata (23 kB)\n",
            "  Downloading sentence_transformers-3.0.1-py3-none-any.whl.metadata (10 kB)\n",
            "  Downloading sentence_transformers-3.0.0-py3-none-any.whl.metadata (10 kB)\n",
            "INFO: pip is still looking at multiple versions of sentence-transformers to determine which version is compatible with other requirements. This could take a while.\n",
            "  Downloading sentence_transformers-2.7.0-py3-none-any.whl.metadata (11 kB)\n",
            "  Downloading sentence_transformers-2.6.1-py3-none-any.whl.metadata (11 kB)\n",
            "  Downloading sentence_transformers-2.6.0-py3-none-any.whl.metadata (11 kB)\n",
            "  Downloading sentence_transformers-2.5.1-py3-none-any.whl.metadata (11 kB)\n",
            "  Downloading sentence_transformers-2.5.0-py3-none-any.whl.metadata (11 kB)\n",
            "INFO: This is taking longer than usual. You might need to provide the dependency resolver with stricter constraints to reduce runtime. See https://pip.pypa.io/warnings/backtracking for guidance. If you want to abort this run, press Ctrl + C.\n",
            "  Downloading sentence_transformers-2.4.0-py3-none-any.whl.metadata (11 kB)\n",
            "  Downloading sentence_transformers-2.3.1-py3-none-any.whl.metadata (11 kB)\n",
            "  Downloading sentence_transformers-2.3.0-py3-none-any.whl.metadata (11 kB)\n",
            "  Downloading sentence-transformers-2.2.2.tar.gz (85 kB)\n",
            "\u001b[2K     \u001b[90m━━━━━━━━━━━━━━━━━━━━━━━━━━━━━━━━━━━━━━━━\u001b[0m \u001b[32m86.0/86.0 kB\u001b[0m \u001b[31m7.5 MB/s\u001b[0m eta \u001b[36m0:00:00\u001b[0m\n",
            "\u001b[?25h  Preparing metadata (setup.py) ... \u001b[?25l\u001b[?25hdone\n",
            "Requirement already satisfied: torchvision in /usr/local/lib/python3.10/dist-packages (from sentence-transformers->-r requirements.txt (line 6)) (0.20.1+cu121)\n",
            "Requirement already satisfied: scikit-learn in /usr/local/lib/python3.10/dist-packages (from sentence-transformers->-r requirements.txt (line 6)) (1.5.2)\n",
            "Requirement already satisfied: aiohappyeyeballs>=2.3.0 in /usr/local/lib/python3.10/dist-packages (from aiohttp->datasets->-r requirements.txt (line 1)) (2.4.4)\n",
            "Requirement already satisfied: aiosignal>=1.1.2 in /usr/local/lib/python3.10/dist-packages (from aiohttp->datasets->-r requirements.txt (line 1)) (1.3.1)\n",
            "Requirement already satisfied: async-timeout<6.0,>=4.0 in /usr/local/lib/python3.10/dist-packages (from aiohttp->datasets->-r requirements.txt (line 1)) (4.0.3)\n",
            "Requirement already satisfied: attrs>=17.3.0 in /usr/local/lib/python3.10/dist-packages (from aiohttp->datasets->-r requirements.txt (line 1)) (24.2.0)\n",
            "Requirement already satisfied: frozenlist>=1.1.1 in /usr/local/lib/python3.10/dist-packages (from aiohttp->datasets->-r requirements.txt (line 1)) (1.5.0)\n",
            "Requirement already satisfied: multidict<7.0,>=4.5 in /usr/local/lib/python3.10/dist-packages (from aiohttp->datasets->-r requirements.txt (line 1)) (6.1.0)\n",
            "Requirement already satisfied: propcache>=0.2.0 in /usr/local/lib/python3.10/dist-packages (from aiohttp->datasets->-r requirements.txt (line 1)) (0.2.1)\n",
            "Requirement already satisfied: yarl<2.0,>=1.17.0 in /usr/local/lib/python3.10/dist-packages (from aiohttp->datasets->-r requirements.txt (line 1)) (1.18.3)\n",
            "Requirement already satisfied: charset-normalizer<4,>=2 in /usr/local/lib/python3.10/dist-packages (from requests->transformers==4.19.0->-r requirements.txt (line 5)) (3.4.0)\n",
            "Requirement already satisfied: idna<4,>=2.5 in /usr/local/lib/python3.10/dist-packages (from requests->transformers==4.19.0->-r requirements.txt (line 5)) (3.10)\n",
            "Requirement already satisfied: urllib3<3,>=1.21.1 in /usr/local/lib/python3.10/dist-packages (from requests->transformers==4.19.0->-r requirements.txt (line 5)) (2.2.3)\n",
            "Requirement already satisfied: certifi>=2017.4.17 in /usr/local/lib/python3.10/dist-packages (from requests->transformers==4.19.0->-r requirements.txt (line 5)) (2024.8.30)\n",
            "Requirement already satisfied: MarkupSafe>=2.0 in /usr/local/lib/python3.10/dist-packages (from jinja2->torch->-r requirements.txt (line 4)) (3.0.2)\n",
            "Requirement already satisfied: python-dateutil>=2.8.2 in /usr/local/lib/python3.10/dist-packages (from pandas->datasets->-r requirements.txt (line 1)) (2.8.2)\n",
            "Requirement already satisfied: pytz>=2020.1 in /usr/local/lib/python3.10/dist-packages (from pandas->datasets->-r requirements.txt (line 1)) (2024.2)\n",
            "Requirement already satisfied: tzdata>=2022.7 in /usr/local/lib/python3.10/dist-packages (from pandas->datasets->-r requirements.txt (line 1)) (2024.2)\n",
            "Requirement already satisfied: threadpoolctl>=3.1.0 in /usr/local/lib/python3.10/dist-packages (from scikit-learn->sentence-transformers->-r requirements.txt (line 6)) (3.5.0)\n",
            "Requirement already satisfied: protobuf>=3.20 in /usr/local/lib/python3.10/dist-packages (from tensorboardX->openprompt->-r requirements.txt (line 3)) (4.25.5)\n",
            "Requirement already satisfied: pillow!=8.3.*,>=5.3.0 in /usr/local/lib/python3.10/dist-packages (from torchvision->sentence-transformers->-r requirements.txt (line 6)) (11.0.0)\n",
            "Downloading transformers-4.19.0-py3-none-any.whl (4.2 MB)\n",
            "\u001b[2K   \u001b[90m━━━━━━━━━━━━━━━━━━━━━━━━━━━━━━━━━━━━━━━━\u001b[0m \u001b[32m4.2/4.2 MB\u001b[0m \u001b[31m63.3 MB/s\u001b[0m eta \u001b[36m0:00:00\u001b[0m\n",
            "\u001b[?25hDownloading datasets-3.2.0-py3-none-any.whl (480 kB)\n",
            "\u001b[2K   \u001b[90m━━━━━━━━━━━━━━━━━━━━━━━━━━━━━━━━━━━━━━━━\u001b[0m \u001b[32m480.6/480.6 kB\u001b[0m \u001b[31m28.7 MB/s\u001b[0m eta \u001b[36m0:00:00\u001b[0m\n",
            "\u001b[?25hDownloading openprompt-1.0.1-py3-none-any.whl (146 kB)\n",
            "\u001b[2K   \u001b[90m━━━━━━━━━━━━━━━━━━━━━━━━━━━━━━━━━━━━━━━━\u001b[0m \u001b[32m146.4/146.4 kB\u001b[0m \u001b[31m13.5 MB/s\u001b[0m eta \u001b[36m0:00:00\u001b[0m\n",
            "\u001b[?25hDownloading rouge-1.0.0-py3-none-any.whl (14 kB)\n",
            "Downloading sentencepiece-0.1.96-cp310-cp310-manylinux_2_17_x86_64.manylinux2014_x86_64.whl (1.2 MB)\n",
            "\u001b[2K   \u001b[90m━━━━━━━━━━━━━━━━━━━━━━━━━━━━━━━━━━━━━━━━\u001b[0m \u001b[32m1.2/1.2 MB\u001b[0m \u001b[31m49.2 MB/s\u001b[0m eta \u001b[36m0:00:00\u001b[0m\n",
            "\u001b[?25hDownloading dill-0.3.8-py3-none-any.whl (116 kB)\n",
            "\u001b[2K   \u001b[90m━━━━━━━━━━━━━━━━━━━━━━━━━━━━━━━━━━━━━━━━\u001b[0m \u001b[32m116.3/116.3 kB\u001b[0m \u001b[31m9.3 MB/s\u001b[0m eta \u001b[36m0:00:00\u001b[0m\n",
            "\u001b[?25hDownloading fsspec-2024.9.0-py3-none-any.whl (179 kB)\n",
            "\u001b[2K   \u001b[90m━━━━━━━━━━━━━━━━━━━━━━━━━━━━━━━━━━━━━━━━\u001b[0m \u001b[32m179.3/179.3 kB\u001b[0m \u001b[31m16.1 MB/s\u001b[0m eta \u001b[36m0:00:00\u001b[0m\n",
            "\u001b[?25hDownloading multiprocess-0.70.16-py310-none-any.whl (134 kB)\n",
            "\u001b[2K   \u001b[90m━━━━━━━━━━━━━━━━━━━━━━━━━━━━━━━━━━━━━━━━\u001b[0m \u001b[32m134.8/134.8 kB\u001b[0m \u001b[31m12.6 MB/s\u001b[0m eta \u001b[36m0:00:00\u001b[0m\n",
            "\u001b[?25hDownloading tokenizers-0.12.1-cp310-cp310-manylinux_2_12_x86_64.manylinux2010_x86_64.whl (6.6 MB)\n",
            "\u001b[2K   \u001b[90m━━━━━━━━━━━━━━━━━━━━━━━━━━━━━━━━━━━━━━━━\u001b[0m \u001b[32m6.6/6.6 MB\u001b[0m \u001b[31m72.9 MB/s\u001b[0m eta \u001b[36m0:00:00\u001b[0m\n",
            "\u001b[?25hDownloading tensorboardX-2.6.2.2-py2.py3-none-any.whl (101 kB)\n",
            "\u001b[2K   \u001b[90m━━━━━━━━━━━━━━━━━━━━━━━━━━━━━━━━━━━━━━━━\u001b[0m \u001b[32m101.7/101.7 kB\u001b[0m \u001b[31m8.9 MB/s\u001b[0m eta \u001b[36m0:00:00\u001b[0m\n",
            "\u001b[?25hDownloading xxhash-3.5.0-cp310-cp310-manylinux_2_17_x86_64.manylinux2014_x86_64.whl (194 kB)\n",
            "\u001b[2K   \u001b[90m━━━━━━━━━━━━━━━━━━━━━━━━━━━━━━━━━━━━━━━━\u001b[0m \u001b[32m194.1/194.1 kB\u001b[0m \u001b[31m19.4 MB/s\u001b[0m eta \u001b[36m0:00:00\u001b[0m\n",
            "\u001b[?25hDownloading yacs-0.1.8-py3-none-any.whl (14 kB)\n",
            "Building wheels for collected packages: sentence-transformers\n",
            "  Building wheel for sentence-transformers (setup.py) ... \u001b[?25l\u001b[?25hdone\n",
            "  Created wheel for sentence-transformers: filename=sentence_transformers-2.2.2-py3-none-any.whl size=125924 sha256=9352eb832728e969a7bb0a2c366f811a6649bc4bfa27f6c80e5d42f469616f56\n",
            "  Stored in directory: /root/.cache/pip/wheels/62/f2/10/1e606fd5f02395388f74e7462910fe851042f97238cbbd902f\n",
            "Successfully built sentence-transformers\n",
            "Installing collected packages: tokenizers, sentencepiece, yacs, xxhash, tensorboardX, rouge, fsspec, dill, multiprocess, transformers, sentence-transformers, datasets, openprompt\n",
            "  Attempting uninstall: tokenizers\n",
            "    Found existing installation: tokenizers 0.20.3\n",
            "    Uninstalling tokenizers-0.20.3:\n",
            "      Successfully uninstalled tokenizers-0.20.3\n",
            "  Attempting uninstall: sentencepiece\n",
            "    Found existing installation: sentencepiece 0.2.0\n",
            "    Uninstalling sentencepiece-0.2.0:\n",
            "      Successfully uninstalled sentencepiece-0.2.0\n",
            "  Attempting uninstall: fsspec\n",
            "    Found existing installation: fsspec 2024.10.0\n",
            "    Uninstalling fsspec-2024.10.0:\n",
            "      Successfully uninstalled fsspec-2024.10.0\n",
            "  Attempting uninstall: transformers\n",
            "    Found existing installation: transformers 4.46.3\n",
            "    Uninstalling transformers-4.46.3:\n",
            "      Successfully uninstalled transformers-4.46.3\n",
            "  Attempting uninstall: sentence-transformers\n",
            "    Found existing installation: sentence-transformers 3.2.1\n",
            "    Uninstalling sentence-transformers-3.2.1:\n",
            "      Successfully uninstalled sentence-transformers-3.2.1\n",
            "\u001b[31mERROR: pip's dependency resolver does not currently take into account all the packages that are installed. This behaviour is the source of the following dependency conflicts.\n",
            "gcsfs 2024.10.0 requires fsspec==2024.10.0, but you have fsspec 2024.9.0 which is incompatible.\u001b[0m\u001b[31m\n",
            "\u001b[0mSuccessfully installed datasets-3.2.0 dill-0.3.8 fsspec-2024.9.0 multiprocess-0.70.16 openprompt-1.0.1 rouge-1.0.0 sentence-transformers-2.2.2 sentencepiece-0.1.96 tensorboardX-2.6.2.2 tokenizers-0.12.1 transformers-4.19.0 xxhash-3.5.0 yacs-0.1.8\n"
          ]
        }
      ]
    },
    {
      "cell_type": "code",
      "source": [
        "import nltk\n",
        "\n",
        "nltk.download('punkt_tab')"
      ],
      "metadata": {
        "colab": {
          "base_uri": "https://localhost:8080/"
        },
        "id": "R7sq9YgVbIwK",
        "outputId": "41ea55ff-a82b-4e3a-ed90-e5b98a330905"
      },
      "execution_count": null,
      "outputs": [
        {
          "output_type": "stream",
          "name": "stderr",
          "text": [
            "[nltk_data] Downloading package punkt_tab to /root/nltk_data...\n",
            "[nltk_data]   Unzipping tokenizers/punkt_tab.zip.\n"
          ]
        },
        {
          "output_type": "execute_result",
          "data": {
            "text/plain": [
              "True"
            ]
          },
          "metadata": {},
          "execution_count": 7
        }
      ]
    },
    {
      "cell_type": "code",
      "source": [
        "!mkdir -p logs"
      ],
      "metadata": {
        "id": "74gVxNSabLT5"
      },
      "execution_count": null,
      "outputs": []
    },
    {
      "cell_type": "code",
      "source": [
        "!./cli.py --config_yaml ./sentim/classification_PN.yaml"
      ],
      "metadata": {
        "colab": {
          "base_uri": "https://localhost:8080/"
        },
        "id": "DPHGBfesbM9z",
        "outputId": "7e64aa6c-9c55-430a-9774-f7295f3fdbba"
      },
      "execution_count": null,
      "outputs": [
        {
          "output_type": "stream",
          "name": "stdout",
          "text": [
            "2024-12-14 07:15:20.176117: E external/local_xla/xla/stream_executor/cuda/cuda_fft.cc:485] Unable to register cuFFT factory: Attempting to register factory for plugin cuFFT when one has already been registered\n",
            "2024-12-14 07:15:20.195844: E external/local_xla/xla/stream_executor/cuda/cuda_dnn.cc:8454] Unable to register cuDNN factory: Attempting to register factory for plugin cuDNN when one has already been registered\n",
            "2024-12-14 07:15:20.207497: E external/local_xla/xla/stream_executor/cuda/cuda_blas.cc:1452] Unable to register cuBLAS factory: Attempting to register factory for plugin cuBLAS when one has already been registered\n",
            "2024-12-14 07:15:20.227271: I tensorflow/core/platform/cpu_feature_guard.cc:210] This TensorFlow binary is optimized to use available CPU instructions in performance-critical operations.\n",
            "To enable the following instructions: AVX2 FMA, in other operations, rebuild TensorFlow with the appropriate compiler flags.\n",
            "2024-12-14 07:15:21.315147: W tensorflow/compiler/tf2tensorrt/utils/py_utils.cc:38] TF-TRT Warning: Could not find TensorRT\n",
            "[\u001b[032m2024-12-14 07:15:24,477\u001b[0m INFO] config.save_config_to_yaml Config saved as logs/imdb_t5-small_mixed_template_manual_verbalizer_1214071524470141/config.yaml\n",
            "README.md: 100% 7.81k/7.81k [00:00<00:00, 45.7MB/s]\n",
            "train-00000-of-00001.parquet: 100% 21.0M/21.0M [00:00<00:00, 142MB/s]\n",
            "test-00000-of-00001.parquet: 100% 20.5M/20.5M [00:00<00:00, 100MB/s]\n",
            "unsupervised-00000-of-00001.parquet: 100% 42.0M/42.0M [00:00<00:00, 225MB/s]\n",
            "Generating train split: 100% 25000/25000 [00:00<00:00, 84330.54 examples/s]\n",
            "Generating test split: 100% 25000/25000 [00:00<00:00, 79311.04 examples/s]\n",
            "Generating unsupervised split: 100% 50000/50000 [00:00<00:00, 124182.80 examples/s]\n",
            "[\u001b[032m2024-12-14 07:15:33,029\u001b[0m INFO] reproduciblity.set_seed Global seed set to 100\n",
            "Downloading: 100% 1.18k/1.18k [00:00<00:00, 6.89MB/s]\n",
            "Downloading: 100% 231M/231M [00:02<00:00, 87.9MB/s]\n",
            "/usr/local/lib/python3.10/dist-packages/transformers/modeling_utils.py:392: FutureWarning: You are using `torch.load` with `weights_only=False` (the current default value), which uses the default pickle module implicitly. It is possible to construct malicious pickle data which will execute arbitrary code during unpickling (See https://github.com/pytorch/pytorch/blob/main/SECURITY.md#untrusted-models for more details). In a future release, the default value for `weights_only` will be flipped to `True`. This limits the functions that could be executed during unpickling. Arbitrary objects will no longer be allowed to be loaded via this mode unless they are explicitly allowlisted by the user via `torch.serialization.add_safe_globals`. We recommend you start setting `weights_only=True` for any use case where you don't have full control of the loaded file. Please open an issue on GitHub for any issues related to this experimental feature.\n",
            "  return torch.load(checkpoint_file, map_location=\"cpu\")\n",
            "Downloading: 100% 773k/773k [00:00<00:00, 4.00MB/s]\n",
            "Downloading: 100% 2.27k/2.27k [00:00<00:00, 12.9MB/s]\n",
            "[\u001b[032m2024-12-14 07:15:38,208\u001b[0m INFO] prompt_base.from_file using template: {\"placeholder\": \"text_a\"} {\"soft\" : \"Is the sentiment of the above text positive or negative?\"} {\"mask\"} {\"soft\": None}\n",
            "tokenizing: 0it [00:00, ?it/s]Token indices sequence length is longer than the specified maximum sequence length for this model (590 > 512). Running this sequence through the model will result in indexing errors\n",
            "tokenizing: 25000it [01:02, 398.84it/s]\n",
            "tokenizing: 25000it [01:05, 384.21it/s]\n",
            "tokenizing: 25000it [01:02, 398.00it/s]\n",
            "[\u001b[032m2024-12-14 07:18:51,411\u001b[0m INFO] cuda.model_to_device Using cuda of single gpu\n",
            "/usr/local/lib/python3.10/dist-packages/transformers/optimization.py:306: FutureWarning: This implementation of AdamW is deprecated and will be removed in a future version. Use the PyTorch implementation torch.optim.AdamW instead, or set `no_deprecation_warning=True` to disable this warning\n",
            "  warnings.warn(\n",
            "train epoch: 0: 100% 5000/5000 [11:36<00:00,  7.18it/s, loss=0.0999]\n",
            "[\u001b[032m2024-12-14 07:30:30,449\u001b[0m INFO] trainer.training_epoch Training epoch 0, num_steps 5000,  avg_loss: 0.4339, total_loss: 2169.7202\n",
            "validation: 100% 12500/12500 [04:34<00:00, 45.51it/s]\n",
            "[\u001b[032m2024-12-14 07:35:05,241\u001b[0m INFO] trainer.inference_epoch validation Performance: OrderedDict([('accuracy', 0.84472), ('micro-f1', 0.84472), ('macro-f1', 0.8447178971076499), ('precision', 0.8422013977128335), ('recall', 0.8484)])\n",
            "[\u001b[032m2024-12-14 07:35:05,243\u001b[0m INFO] trainer.save_checkpoint Saving checkpoint logs/imdb_t5-small_mixed_template_manual_verbalizer_1214071524470141/checkpoints/last.ckpt...\n",
            "[\u001b[032m2024-12-14 07:35:12,633\u001b[0m INFO] trainer.save_checkpoint Copying checkpoint logs/imdb_t5-small_mixed_template_manual_verbalizer_1214071524470141/checkpoints/last.ckpt to logs/imdb_t5-small_mixed_template_manual_verbalizer_1214071524470141/checkpoints/best.ckpt...\n",
            "[\u001b[032m2024-12-14 07:35:16,703\u001b[0m INFO] trainer.save_checkpoint Save Checkpoint finished\n",
            "train epoch: 1: 100% 5000/5000 [11:38<00:00,  7.16it/s, loss=0.0992]\n",
            "[\u001b[032m2024-12-14 07:46:54,743\u001b[0m INFO] trainer.training_epoch Training epoch 1, num_steps 10000,  avg_loss: 0.3256, total_loss: 1627.8779\n",
            "validation: 100% 12500/12500 [04:34<00:00, 45.50it/s]\n",
            "[\u001b[032m2024-12-14 07:51:29,577\u001b[0m INFO] trainer.inference_epoch validation Performance: OrderedDict([('accuracy', 0.85324), ('micro-f1', 0.85324), ('macro-f1', 0.8532291448275514), ('precision', 0.8472670074714904), ('recall', 0.86184)])\n",
            "[\u001b[032m2024-12-14 07:51:29,579\u001b[0m INFO] trainer.save_checkpoint Saving checkpoint logs/imdb_t5-small_mixed_template_manual_verbalizer_1214071524470141/checkpoints/last.ckpt...\n",
            "[\u001b[032m2024-12-14 07:51:40,068\u001b[0m INFO] trainer.save_checkpoint Copying checkpoint logs/imdb_t5-small_mixed_template_manual_verbalizer_1214071524470141/checkpoints/last.ckpt to logs/imdb_t5-small_mixed_template_manual_verbalizer_1214071524470141/checkpoints/best.ckpt...\n",
            "[\u001b[032m2024-12-14 07:51:51,430\u001b[0m INFO] trainer.save_checkpoint Save Checkpoint finished\n",
            "train epoch: 2: 100% 5000/5000 [11:38<00:00,  7.16it/s, loss=0.0169]\n",
            "[\u001b[032m2024-12-14 08:03:29,611\u001b[0m INFO] trainer.training_epoch Training epoch 2, num_steps 15000,  avg_loss: 0.2395, total_loss: 1197.5368\n",
            "validation: 100% 12500/12500 [04:36<00:00, 45.26it/s]\n",
            "[\u001b[032m2024-12-14 08:08:05,895\u001b[0m INFO] trainer.inference_epoch validation Performance: OrderedDict([('accuracy', 0.84408), ('micro-f1', 0.84408), ('macro-f1', 0.8435923042881177), ('precision', 0.8873378962536023), ('recall', 0.78824)])\n",
            "[\u001b[032m2024-12-14 08:08:05,897\u001b[0m INFO] trainer.save_checkpoint Saving checkpoint logs/imdb_t5-small_mixed_template_manual_verbalizer_1214071524470141/checkpoints/last.ckpt...\n",
            "[\u001b[032m2024-12-14 08:08:13,679\u001b[0m INFO] trainer.save_checkpoint Save Checkpoint finished\n",
            "train epoch: 3: 100% 5000/5000 [11:37<00:00,  7.16it/s, loss=0.0903]\n",
            "[\u001b[032m2024-12-14 08:19:51,629\u001b[0m INFO] trainer.training_epoch Training epoch 3, num_steps 20000,  avg_loss: 0.1490, total_loss: 745.0841\n",
            "validation: 100% 12500/12500 [04:33<00:00, 45.69it/s]\n",
            "[\u001b[032m2024-12-14 08:24:25,358\u001b[0m INFO] trainer.inference_epoch validation Performance: OrderedDict([('accuracy', 0.84828), ('micro-f1', 0.84828), ('macro-f1', 0.8481414989727231), ('precision', 0.8284420973217653), ('recall', 0.87848)])\n",
            "[\u001b[032m2024-12-14 08:24:25,361\u001b[0m INFO] trainer.save_checkpoint Saving checkpoint logs/imdb_t5-small_mixed_template_manual_verbalizer_1214071524470141/checkpoints/last.ckpt...\n",
            "[\u001b[032m2024-12-14 08:24:31,449\u001b[0m INFO] trainer.save_checkpoint Save Checkpoint finished\n",
            "train epoch: 4: 100% 5000/5000 [11:37<00:00,  7.17it/s, loss=0.0201]\n",
            "[\u001b[032m2024-12-14 08:36:08,661\u001b[0m INFO] trainer.training_epoch Training epoch 4, num_steps 25000,  avg_loss: 0.0848, total_loss: 423.8131\n",
            "validation: 100% 12500/12500 [04:32<00:00, 45.82it/s]\n",
            "[\u001b[032m2024-12-14 08:40:41,557\u001b[0m INFO] trainer.inference_epoch validation Performance: OrderedDict([('accuracy', 0.85), ('micro-f1', 0.85), ('macro-f1', 0.8499792524906693), ('precision', 0.8419571674222291), ('recall', 0.86176)])\n",
            "[\u001b[032m2024-12-14 08:40:41,559\u001b[0m INFO] trainer.save_checkpoint Saving checkpoint logs/imdb_t5-small_mixed_template_manual_verbalizer_1214071524470141/checkpoints/last.ckpt...\n",
            "[\u001b[032m2024-12-14 08:40:48,726\u001b[0m INFO] trainer.save_checkpoint Save Checkpoint finished\n",
            "train epoch: 5: 100% 5000/5000 [11:37<00:00,  7.17it/s, loss=0.000535]\n",
            "[\u001b[032m2024-12-14 08:52:26,349\u001b[0m INFO] trainer.training_epoch Training epoch 5, num_steps 30000,  avg_loss: 0.0447, total_loss: 223.2639\n",
            "validation: 100% 12500/12500 [04:33<00:00, 45.65it/s]\n",
            "[\u001b[032m2024-12-14 08:57:00,314\u001b[0m INFO] trainer.inference_epoch validation Performance: OrderedDict([('accuracy', 0.84896), ('micro-f1', 0.84896), ('macro-f1', 0.8489079527785622), ('precision', 0.8364702252391237), ('recall', 0.86752)])\n",
            "[\u001b[032m2024-12-14 08:57:00,316\u001b[0m INFO] trainer.save_checkpoint Saving checkpoint logs/imdb_t5-small_mixed_template_manual_verbalizer_1214071524470141/checkpoints/last.ckpt...\n",
            "[\u001b[032m2024-12-14 08:57:07,487\u001b[0m INFO] trainer.save_checkpoint Save Checkpoint finished\n",
            "train epoch: 6: 100% 5000/5000 [11:37<00:00,  7.17it/s, loss=3.94e-5][\u001b[032m2024-12-14 09:08:45,126\u001b[0m INFO] trainer.training_epoch Training epoch 6, num_steps 35000, avg_loss: 0.0270, total_loss: 135.1361\n",
            "train epoch: 6: 100% 5000/5000 [11:37<00:00,  7.17it/s, loss=3.94e-5]\n",
            "validation: 100% 12500/12500 [04:33<00:00, 45.64it/s]\n",
            "[\u001b[032m2024-12-14 09:13:19,154\u001b[0m INFO] trainer.inference_epoch validation Performance: OrderedDict([('accuracy', 0.85264), ('micro-f1', 0.85264), ('macro-f1', 0.8526399056895397), ('precision', 0.8532051282051282), ('recall', 0.85184)])\n",
            "[\u001b[032m2024-12-14 09:13:19,156\u001b[0m INFO] trainer.save_checkpoint Saving checkpoint logs/imdb_t5-small_mixed_template_manual_verbalizer_1214071524470141/checkpoints/last.ckpt...\n",
            "[\u001b[032m2024-12-14 09:13:26,571\u001b[0m INFO] trainer.save_checkpoint Save Checkpoint finished\n",
            "[\u001b[032m2024-12-14 09:13:26,571\u001b[0m INFO] trainer.fit Stop training by reaching maximum num_training_steps\n",
            "[\u001b[032m2024-12-14 09:13:26,572\u001b[0m INFO] trainer.load_checkpoint Loading Checkpoint logs/imdb_t5-small_mixed_template_manual_verbalizer_1214071524470141/checkpoints/best.ckpt...\n",
            "[\u001b[032m2024-12-14 09:13:27,551\u001b[0m INFO] trainer.load_checkpoint Load Checkpoint finished, the current validation metric: 0.85324\n",
            "test: 100% 3125/3125 [03:33<00:00, 14.64it/s]\n",
            "[\u001b[032m2024-12-14 09:17:01,238\u001b[0m INFO] trainer.inference_epoch test Performance: OrderedDict([('accuracy', 0.85324), ('micro-f1', 0.85324), ('macro-f1', 0.8532291448275514), ('precision', 0.8472670074714904), ('recall', 0.86184)])\n"
          ]
        }
      ]
    }
  ]
}